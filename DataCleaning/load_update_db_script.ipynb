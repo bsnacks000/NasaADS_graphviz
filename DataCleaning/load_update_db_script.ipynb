{
 "cells": [
  {
   "cell_type": "code",
   "execution_count": 14,
   "metadata": {
    "collapsed": false
   },
   "outputs": [],
   "source": [
    "from sqlalchemy import create_engine, MetaData\n",
    "from load_table import load_table\n",
    "import os\n",
    "\n",
    "db_path = ''\n",
    "\n",
    "engine = create_engine('sqlite:///'+ db_path)\n",
    "conn = engine.connect()  # pass these into load_table\n",
    "meta = MetaData(engine)\n",
    "\n",
    "\n"
   ]
  },
  {
   "cell_type": "code",
   "execution_count": 15,
   "metadata": {
    "collapsed": false
   },
   "outputs": [
    {
     "data": {
      "text/plain": [
       "['stars_lg_cc_edges.csv',\n",
       " 'stars_main_nodes.csv',\n",
       " 'stars_lg_cc_nodes.csv',\n",
       " 'stars_main_edges.csv',\n",
       " 'stars_islands_nodes.csv',\n",
       " 'stars_islands_edges.csv']"
      ]
     },
     "execution_count": 15,
     "metadata": {},
     "output_type": "execute_result"
    }
   ],
   "source": [
    "csvs = os.listdir(os.getcwd()+'/data') \n",
    "csvs"
   ]
  },
  {
   "cell_type": "code",
   "execution_count": 18,
   "metadata": {
    "collapsed": false
   },
   "outputs": [
    {
     "name": "stdout",
     "output_type": "stream",
     "text": [
      "table:: stars_lg_cc_edges already contains records: no csv loaded \n",
      "table:: stars_main_nodes already contains records: no csv loaded \n",
      "table:: stars_lg_cc_nodes already contains records: no csv loaded \n",
      "table:: stars_main_edges already contains records: no csv loaded \n",
      "table:: stars_islands_nodes already contains records: no csv loaded \n",
      "table:: stars_islands_edges already contains records: no csv loaded \n"
     ]
    }
   ],
   "source": [
    "for f in csvs:\n",
    "    load_table(f, 'test.db',conn,meta)"
   ]
  },
  {
   "cell_type": "code",
   "execution_count": null,
   "metadata": {
    "collapsed": false
   },
   "outputs": [],
   "source": [
    "\n"
   ]
  },
  {
   "cell_type": "code",
   "execution_count": 19,
   "metadata": {
    "collapsed": false
   },
   "outputs": [],
   "source": [
    "\n",
    "conn.close()\n",
    "engine.dispose()"
   ]
  },
  {
   "cell_type": "code",
   "execution_count": null,
   "metadata": {
    "collapsed": true
   },
   "outputs": [],
   "source": []
  }
 ],
 "metadata": {
  "kernelspec": {
   "display_name": "Python 2",
   "language": "python",
   "name": "python2"
  },
  "language_info": {
   "codemirror_mode": {
    "name": "ipython",
    "version": 2
   },
   "file_extension": ".py",
   "mimetype": "text/x-python",
   "name": "python",
   "nbconvert_exporter": "python",
   "pygments_lexer": "ipython2",
   "version": "2.7.11"
  }
 },
 "nbformat": 4,
 "nbformat_minor": 1
}
