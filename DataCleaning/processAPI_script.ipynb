{
 "cells": [
  {
   "cell_type": "code",
   "execution_count": 9,
   "metadata": {
    "collapsed": false
   },
   "outputs": [],
   "source": [
    "from process import ProcessADS, ProcessGraph\n",
    "\n",
    "DEV_KEY = \"kNUoTurJ5TXV9hsw9KQN1k8wH4U0D7Oy0CJoOvyw\"\n"
   ]
  },
  {
   "cell_type": "markdown",
   "metadata": {},
   "source": [
    "### Data Warehousing API for NASA ADS\n",
    "\n",
    "These two classes from the process module get our data out of NASA ADS and into a table format suitable for warehousing on our server (SQLite database).\n",
    "\n",
    "The ProcessADS class takes a string query q, a dev key for the ADS api, and an integer value for max_pages (1 to 5 seem to work the best). In this way we can create multiple instances for each query in the same python script/session.\n"
   ]
  },
  {
   "cell_type": "code",
   "execution_count": 10,
   "metadata": {
    "collapsed": false
   },
   "outputs": [],
   "source": [
    "# topics: 'stars (demo)', cosmology, exoplanet astronomy, high energy astrophysics\n",
    "\n",
    "p = ProcessADS(q='cosmology',key=DEV_KEY,max_pages=4)\n"
   ]
  },
  {
   "cell_type": "markdown",
   "metadata": {},
   "source": [
    "We can investigate the results of the query by checking out the nodes and edges. These are just pandas dataframes and respond to all the df methods. \n",
    "\n"
   ]
  },
  {
   "cell_type": "code",
   "execution_count": 11,
   "metadata": {
    "collapsed": false
   },
   "outputs": [
    {
     "data": {
      "text/html": [
       "<div>\n",
       "<table border=\"1\" class=\"dataframe\">\n",
       "  <thead>\n",
       "    <tr style=\"text-align: right;\">\n",
       "      <th></th>\n",
       "      <th>label</th>\n",
       "      <th>node_type</th>\n",
       "      <th>id</th>\n",
       "    </tr>\n",
       "  </thead>\n",
       "  <tbody>\n",
       "    <tr>\n",
       "      <th>0</th>\n",
       "      <td>Schlegel, David J.</td>\n",
       "      <td>Author</td>\n",
       "      <td>0</td>\n",
       "    </tr>\n",
       "    <tr>\n",
       "      <th>1</th>\n",
       "      <td>Finkbeiner, Douglas P.</td>\n",
       "      <td>Author</td>\n",
       "      <td>1</td>\n",
       "    </tr>\n",
       "    <tr>\n",
       "      <th>2</th>\n",
       "      <td>Davis, Marc</td>\n",
       "      <td>Author</td>\n",
       "      <td>2</td>\n",
       "    </tr>\n",
       "    <tr>\n",
       "      <th>3</th>\n",
       "      <td>Riess, Adam G.</td>\n",
       "      <td>Author</td>\n",
       "      <td>3</td>\n",
       "    </tr>\n",
       "    <tr>\n",
       "      <th>4</th>\n",
       "      <td>Filippenko, Alexei V.</td>\n",
       "      <td>Author</td>\n",
       "      <td>4</td>\n",
       "    </tr>\n",
       "  </tbody>\n",
       "</table>\n",
       "</div>"
      ],
      "text/plain": [
       "                    label node_type  id\n",
       "0      Schlegel, David J.    Author   0\n",
       "1  Finkbeiner, Douglas P.    Author   1\n",
       "2             Davis, Marc    Author   2\n",
       "3          Riess, Adam G.    Author   3\n",
       "4   Filippenko, Alexei V.    Author   4"
      ]
     },
     "execution_count": 11,
     "metadata": {},
     "output_type": "execute_result"
    }
   ],
   "source": [
    "p.nodes.head()"
   ]
  },
  {
   "cell_type": "markdown",
   "metadata": {},
   "source": [
    "The fields that store the tables in both Process classes are private, so they cannot be set directly (and accidentally overwritten). If you want to manipulate the dataframes for whatever reason it needs to be stored to a new variable. Don't do anything that changes the dfs in place inside the objects!!\n"
   ]
  },
  {
   "cell_type": "code",
   "execution_count": 4,
   "metadata": {
    "collapsed": false
   },
   "outputs": [],
   "source": [
    "#p.edges = None  # direct setting throws an error"
   ]
  },
  {
   "cell_type": "markdown",
   "metadata": {},
   "source": [
    "ProcessGraph processes the query object with networkx and delivers 3 sets of graphs in node and edgelist dataframes. Main is the large main query graph, lg_cc_subgraph are the largest bipartite connected components and islands are bipartite subgraphs with the highest edgeweight for each node type. Betweenness centrality, degree centrality, and pagerank for all nodes in each graph are also added. These will play a factor in the visualization's node size in sigmajs.\n",
    "\n",
    "The dataframes you can look at (assuming graphs = ProcessGraph(p):\n",
    "* graphs.main_nodes\n",
    "* graphs.main_edges\n",
    "* graphs.lg_cc_nodes\n",
    "* graphs.lg_cc_edges\n",
    "* graphs.islands_nodes\n",
    "* graphs.islands_edges\n",
    "\n",
    "You can also check out the 3 graph networkx graph objects:\n",
    "* graphs.g   (main graph)\n",
    "* graphs.lg_cc_subgraph\n",
    "* graphs.islands_subgraph\n",
    "\n"
   ]
  },
  {
   "cell_type": "code",
   "execution_count": 12,
   "metadata": {
    "collapsed": false
   },
   "outputs": [
    {
     "data": {
      "text/html": [
       "<div>\n",
       "<table border=\"1\" class=\"dataframe\">\n",
       "  <thead>\n",
       "    <tr style=\"text-align: right;\">\n",
       "      <th></th>\n",
       "      <th>id</th>\n",
       "      <th>label</th>\n",
       "      <th>node_type</th>\n",
       "      <th>zbetween_central</th>\n",
       "      <th>zdeg_central</th>\n",
       "      <th>zpagerank</th>\n",
       "    </tr>\n",
       "  </thead>\n",
       "  <tbody>\n",
       "    <tr>\n",
       "      <th>0</th>\n",
       "      <td>0</td>\n",
       "      <td>Schlegel, David J.</td>\n",
       "      <td>Author</td>\n",
       "      <td>0.000000</td>\n",
       "      <td>0.001876</td>\n",
       "      <td>0.000936</td>\n",
       "    </tr>\n",
       "    <tr>\n",
       "      <th>1</th>\n",
       "      <td>1</td>\n",
       "      <td>Finkbeiner, Douglas P.</td>\n",
       "      <td>Author</td>\n",
       "      <td>0.000000</td>\n",
       "      <td>0.001876</td>\n",
       "      <td>0.000936</td>\n",
       "    </tr>\n",
       "    <tr>\n",
       "      <th>2</th>\n",
       "      <td>2</td>\n",
       "      <td>Davis, Marc</td>\n",
       "      <td>Author</td>\n",
       "      <td>0.000000</td>\n",
       "      <td>0.001876</td>\n",
       "      <td>0.000936</td>\n",
       "    </tr>\n",
       "    <tr>\n",
       "      <th>3</th>\n",
       "      <td>3</td>\n",
       "      <td>Riess, Adam G.</td>\n",
       "      <td>Author</td>\n",
       "      <td>0.006872</td>\n",
       "      <td>0.003752</td>\n",
       "      <td>0.001570</td>\n",
       "    </tr>\n",
       "    <tr>\n",
       "      <th>4</th>\n",
       "      <td>4</td>\n",
       "      <td>Filippenko, Alexei V.</td>\n",
       "      <td>Author</td>\n",
       "      <td>0.006872</td>\n",
       "      <td>0.003752</td>\n",
       "      <td>0.001570</td>\n",
       "    </tr>\n",
       "  </tbody>\n",
       "</table>\n",
       "</div>"
      ],
      "text/plain": [
       "   id                   label node_type  zbetween_central  zdeg_central  \\\n",
       "0   0      Schlegel, David J.    Author          0.000000      0.001876   \n",
       "1   1  Finkbeiner, Douglas P.    Author          0.000000      0.001876   \n",
       "2   2             Davis, Marc    Author          0.000000      0.001876   \n",
       "3   3          Riess, Adam G.    Author          0.006872      0.003752   \n",
       "4   4   Filippenko, Alexei V.    Author          0.006872      0.003752   \n",
       "\n",
       "   zpagerank  \n",
       "0   0.000936  \n",
       "1   0.000936  \n",
       "2   0.000936  \n",
       "3   0.001570  \n",
       "4   0.001570  "
      ]
     },
     "execution_count": 12,
     "metadata": {},
     "output_type": "execute_result"
    }
   ],
   "source": [
    "graphs = ProcessGraph(p)\n",
    "\n",
    "graphs.main_nodes.head()"
   ]
  },
  {
   "cell_type": "code",
   "execution_count": 13,
   "metadata": {
    "collapsed": false
   },
   "outputs": [
    {
     "data": {
      "text/plain": [
       "[(0,\n",
       "  {'id': 0,\n",
       "   'label': u'Schlegel, David J.',\n",
       "   'node_type': 'Author',\n",
       "   'zbetween_central': 0.0,\n",
       "   'zdeg_central': 0.31100478468899523,\n",
       "   'zpagerank': 0.002844346215282877}),\n",
       " (1,\n",
       "  {'id': 1,\n",
       "   'label': u'Finkbeiner, Douglas P.',\n",
       "   'node_type': 'Author',\n",
       "   'zbetween_central': 0.0,\n",
       "   'zdeg_central': 0.31100478468899523,\n",
       "   'zpagerank': 0.002844346215282877}),\n",
       " (2,\n",
       "  {'id': 2,\n",
       "   'label': u'Davis, Marc',\n",
       "   'node_type': 'Author',\n",
       "   'zbetween_central': 0.0,\n",
       "   'zdeg_central': 0.31100478468899523,\n",
       "   'zpagerank': 0.002844346215282877}),\n",
       " (3,\n",
       "  {'id': 3,\n",
       "   'label': u'Riess, Adam G.',\n",
       "   'node_type': 'Author',\n",
       "   'zbetween_central': 0.010458095342608765,\n",
       "   'zdeg_central': 0.38516746411483255,\n",
       "   'zpagerank': 0.004105197589831577}),\n",
       " (4,\n",
       "  {'id': 4,\n",
       "   'label': u'Filippenko, Alexei V.',\n",
       "   'node_type': 'Author',\n",
       "   'zbetween_central': 0.010458095342608765,\n",
       "   'zdeg_central': 0.38516746411483255,\n",
       "   'zpagerank': 0.004105197589831577})]"
      ]
     },
     "execution_count": 13,
     "metadata": {},
     "output_type": "execute_result"
    }
   ],
   "source": [
    "graphs.a_lg_cc_subgraph.nodes(data=True)[0:5]"
   ]
  },
  {
   "cell_type": "code",
   "execution_count": 14,
   "metadata": {
    "collapsed": false
   },
   "outputs": [
    {
     "data": {
      "text/plain": [
       "[(512,\n",
       "  {'id': 512,\n",
       "   'label': u'Physical Review Letters',\n",
       "   'node_type': 'Journal',\n",
       "   'zbetween_central': 0.0,\n",
       "   'zdeg_central': 0.018867924528301886,\n",
       "   'zpagerank': 0.009887176784125614}),\n",
       " (513,\n",
       "  {'id': 513,\n",
       "   'label': u'Physical Review D',\n",
       "   'node_type': 'Journal',\n",
       "   'zbetween_central': 0.018142235123367198,\n",
       "   'zdeg_central': 0.09433962264150943,\n",
       "   'zpagerank': 0.03345609706820784}),\n",
       " (3,\n",
       "  {'id': 3,\n",
       "   'label': u'Riess, Adam G.',\n",
       "   'node_type': 'Author',\n",
       "   'zbetween_central': 0.0,\n",
       "   'zdeg_central': 0.18867924528301885,\n",
       "   'zpagerank': 0.018518518518518524}),\n",
       " (4,\n",
       "  {'id': 4,\n",
       "   'label': u'Filippenko, Alexei V.',\n",
       "   'node_type': 'Author',\n",
       "   'zbetween_central': 0.0,\n",
       "   'zdeg_central': 0.18867924528301885,\n",
       "   'zpagerank': 0.018518518518518524}),\n",
       " (5,\n",
       "  {'id': 5,\n",
       "   'label': u'Challis, Peter',\n",
       "   'node_type': 'Author',\n",
       "   'zbetween_central': 0.0,\n",
       "   'zdeg_central': 0.18867924528301885,\n",
       "   'zpagerank': 0.018518518518518524})]"
      ]
     },
     "execution_count": 14,
     "metadata": {},
     "output_type": "execute_result"
    }
   ],
   "source": [
    "graphs.islands_graph.nodes(data=True)[:5]"
   ]
  },
  {
   "cell_type": "markdown",
   "metadata": {},
   "source": [
    "If everything looks good, two methods are called to export the graphs to csv files. A subdirectory of the current working directory called csvs is created for the output. For our web app these csvs will get piped into a sqlite database that will sit on the server, but we can use these csvs for other graph APIs and databases if we wanted to..."
   ]
  },
  {
   "cell_type": "code",
   "execution_count": 15,
   "metadata": {
    "collapsed": false
   },
   "outputs": [],
   "source": [
    "graphs.export_main_to_csv()"
   ]
  },
  {
   "cell_type": "code",
   "execution_count": 16,
   "metadata": {
    "collapsed": false
   },
   "outputs": [],
   "source": [
    "graphs.export_subgraphs_to_csv()"
   ]
  }
 ],
 "metadata": {
  "kernelspec": {
   "display_name": "Python 2",
   "language": "python",
   "name": "python2"
  },
  "language_info": {
   "codemirror_mode": {
    "name": "ipython",
    "version": 2
   },
   "file_extension": ".py",
   "mimetype": "text/x-python",
   "name": "python",
   "nbconvert_exporter": "python",
   "pygments_lexer": "ipython2",
   "version": "2.7.11"
  }
 },
 "nbformat": 4,
 "nbformat_minor": 1
}
