{
 "cells": [
  {
   "cell_type": "code",
   "execution_count": 1,
   "metadata": {
    "collapsed": false
   },
   "outputs": [],
   "source": [
    "from process import ProcessADS, ProcessGraph\n",
    "\n",
    "DEV_KEY = \"kNUoTurJ5TXV9hsw9KQN1k8wH4U0D7Oy0CJoOvyw\"\n"
   ]
  },
  {
   "cell_type": "markdown",
   "metadata": {},
   "source": [
    "### Data Warehousing API for NASA ADS\n",
    "\n",
    "These two classes from the process module get our data out of NASA ADS and into a table format suitable for warehousing on our server (SQLite database).\n",
    "\n",
    "The ProcessADS class takes a string query q, a dev key for the ADS api, and an integer value for max_pages (1 to 5 seem to work the best). In this way we can create multiple instances for each query in the same python script/session.\n"
   ]
  },
  {
   "cell_type": "code",
   "execution_count": 2,
   "metadata": {
    "collapsed": false
   },
   "outputs": [
    {
     "name": "stderr",
     "output_type": "stream",
     "text": [
      "/home/bsnacks/Documents/Flask_projects/venv_nasaflask/lib/python2.7/site-packages/ads/utils.py:23: UserWarning: You are lazy loading attributes via 'author', and so are making multiple calls to the API. This will impact your overall rate limits.\n",
      "  UserWarning,\n",
      "/home/bsnacks/Documents/Flask_projects/venv_nasaflask/lib/python2.7/site-packages/ads/utils.py:23: UserWarning: You are lazy loading attributes via 'pub', and so are making multiple calls to the API. This will impact your overall rate limits.\n",
      "  UserWarning,\n"
     ]
    }
   ],
   "source": [
    "p = ProcessADS(q='stars',key=DEV_KEY,max_pages=2)\n"
   ]
  },
  {
   "cell_type": "markdown",
   "metadata": {},
   "source": [
    "We can investigate the results of the query by checking out the nodes and edges. These are just pandas dataframes and respond to all the df methods. \n",
    "\n"
   ]
  },
  {
   "cell_type": "code",
   "execution_count": 3,
   "metadata": {
    "collapsed": false
   },
   "outputs": [
    {
     "data": {
      "text/html": [
       "<div>\n",
       "<table border=\"1\" class=\"dataframe\">\n",
       "  <thead>\n",
       "    <tr style=\"text-align: right;\">\n",
       "      <th></th>\n",
       "      <th>label</th>\n",
       "      <th>node_type</th>\n",
       "      <th>id</th>\n",
       "    </tr>\n",
       "  </thead>\n",
       "  <tbody>\n",
       "    <tr>\n",
       "      <th>0</th>\n",
       "      <td>Monkhorst, Hendrik J.</td>\n",
       "      <td>Author</td>\n",
       "      <td>0</td>\n",
       "    </tr>\n",
       "    <tr>\n",
       "      <th>1</th>\n",
       "      <td>Pack, James D.</td>\n",
       "      <td>Author</td>\n",
       "      <td>1</td>\n",
       "    </tr>\n",
       "    <tr>\n",
       "      <th>2</th>\n",
       "      <td>Schlegel, David J.</td>\n",
       "      <td>Author</td>\n",
       "      <td>2</td>\n",
       "    </tr>\n",
       "    <tr>\n",
       "      <th>3</th>\n",
       "      <td>Finkbeiner, Douglas P.</td>\n",
       "      <td>Author</td>\n",
       "      <td>3</td>\n",
       "    </tr>\n",
       "    <tr>\n",
       "      <th>4</th>\n",
       "      <td>Davis, Marc</td>\n",
       "      <td>Author</td>\n",
       "      <td>4</td>\n",
       "    </tr>\n",
       "  </tbody>\n",
       "</table>\n",
       "</div>"
      ],
      "text/plain": [
       "                    label node_type  id\n",
       "0   Monkhorst, Hendrik J.    Author   0\n",
       "1          Pack, James D.    Author   1\n",
       "2      Schlegel, David J.    Author   2\n",
       "3  Finkbeiner, Douglas P.    Author   3\n",
       "4             Davis, Marc    Author   4"
      ]
     },
     "execution_count": 3,
     "metadata": {},
     "output_type": "execute_result"
    }
   ],
   "source": [
    "p.nodes.head()"
   ]
  },
  {
   "cell_type": "markdown",
   "metadata": {},
   "source": [
    "The fields that store the tables in both Process classes are private, so they cannot be set directly (and accidentally overwritten). If you want to manipulate the dataframes for whatever reason it needs to be stored to a new variable. Don't do anything that changes the dfs in place inside the objects!!\n"
   ]
  },
  {
   "cell_type": "code",
   "execution_count": 4,
   "metadata": {
    "collapsed": false
   },
   "outputs": [],
   "source": [
    "#p.edges = None  # direct setting throws an error"
   ]
  },
  {
   "cell_type": "markdown",
   "metadata": {},
   "source": [
    "ProcessGraph processes the query object with networkx and delivers 3 sets of graphs in node and edgelist dataframes. Main is the large main query graph, lg_cc_subgraph are the largest bipartite connected components and islands are bipartite subgraphs with the highest edgeweight for each node type. Betweenness centrality, degree centrality, and pagerank for all nodes in each graph are also added. These will play a factor in the visualization's node size in sigmajs.\n",
    "\n",
    "The dataframes you can look at (assuming graphs = ProcessGraph(p):\n",
    "* graphs.main_nodes\n",
    "* graphs.main_edges\n",
    "* graphs.lg_cc_nodes\n",
    "* graphs.lg_cc_edges\n",
    "* graphs.islands_nodes\n",
    "* graphs.islands_edges\n",
    "\n",
    "You can also check out the 3 graph networkx graph objects:\n",
    "* graphs.g   (main graph)\n",
    "* graphs.lg_cc_subgraph\n",
    "* graphs.islands_subgraph\n",
    "\n"
   ]
  },
  {
   "cell_type": "code",
   "execution_count": 5,
   "metadata": {
    "collapsed": false
   },
   "outputs": [
    {
     "data": {
      "text/html": [
       "<div>\n",
       "<table border=\"1\" class=\"dataframe\">\n",
       "  <thead>\n",
       "    <tr style=\"text-align: right;\">\n",
       "      <th></th>\n",
       "      <th>id</th>\n",
       "      <th>label</th>\n",
       "      <th>node_type</th>\n",
       "      <th>zbetween_central</th>\n",
       "      <th>zdeg_central</th>\n",
       "      <th>zpagerank</th>\n",
       "    </tr>\n",
       "  </thead>\n",
       "  <tbody>\n",
       "    <tr>\n",
       "      <th>0</th>\n",
       "      <td>0</td>\n",
       "      <td>Monkhorst, Hendrik J.</td>\n",
       "      <td>Author</td>\n",
       "      <td>0.0</td>\n",
       "      <td>0.002564</td>\n",
       "      <td>0.001579</td>\n",
       "    </tr>\n",
       "    <tr>\n",
       "      <th>1</th>\n",
       "      <td>1</td>\n",
       "      <td>Pack, James D.</td>\n",
       "      <td>Author</td>\n",
       "      <td>0.0</td>\n",
       "      <td>0.002564</td>\n",
       "      <td>0.001579</td>\n",
       "    </tr>\n",
       "    <tr>\n",
       "      <th>2</th>\n",
       "      <td>2</td>\n",
       "      <td>Schlegel, David J.</td>\n",
       "      <td>Author</td>\n",
       "      <td>0.0</td>\n",
       "      <td>0.002564</td>\n",
       "      <td>0.001301</td>\n",
       "    </tr>\n",
       "    <tr>\n",
       "      <th>3</th>\n",
       "      <td>3</td>\n",
       "      <td>Finkbeiner, Douglas P.</td>\n",
       "      <td>Author</td>\n",
       "      <td>0.0</td>\n",
       "      <td>0.002564</td>\n",
       "      <td>0.001301</td>\n",
       "    </tr>\n",
       "    <tr>\n",
       "      <th>4</th>\n",
       "      <td>4</td>\n",
       "      <td>Davis, Marc</td>\n",
       "      <td>Author</td>\n",
       "      <td>0.0</td>\n",
       "      <td>0.002564</td>\n",
       "      <td>0.001301</td>\n",
       "    </tr>\n",
       "  </tbody>\n",
       "</table>\n",
       "</div>"
      ],
      "text/plain": [
       "   id                   label node_type  zbetween_central  zdeg_central  \\\n",
       "0   0   Monkhorst, Hendrik J.    Author               0.0      0.002564   \n",
       "1   1          Pack, James D.    Author               0.0      0.002564   \n",
       "2   2      Schlegel, David J.    Author               0.0      0.002564   \n",
       "3   3  Finkbeiner, Douglas P.    Author               0.0      0.002564   \n",
       "4   4             Davis, Marc    Author               0.0      0.002564   \n",
       "\n",
       "   zpagerank  \n",
       "0   0.001579  \n",
       "1   0.001579  \n",
       "2   0.001301  \n",
       "3   0.001301  \n",
       "4   0.001301  "
      ]
     },
     "execution_count": 5,
     "metadata": {},
     "output_type": "execute_result"
    }
   ],
   "source": [
    "graphs = ProcessGraph(p)\n",
    "\n",
    "graphs.main_nodes.head()"
   ]
  },
  {
   "cell_type": "code",
   "execution_count": 7,
   "metadata": {
    "collapsed": false
   },
   "outputs": [
    {
     "data": {
      "text/plain": [
       "[(2,\n",
       "  {'id': 2,\n",
       "   'label': u'Schlegel, David J.',\n",
       "   'node_type': 'Author',\n",
       "   'zbetween_central': 0.0,\n",
       "   'zdeg_central': 0.5358851674641149,\n",
       "   'zpagerank': 0.0051597816207715405}),\n",
       " (3,\n",
       "  {'id': 3,\n",
       "   'label': u'Finkbeiner, Douglas P.',\n",
       "   'node_type': 'Author',\n",
       "   'zbetween_central': 0.0,\n",
       "   'zdeg_central': 0.5358851674641149,\n",
       "   'zpagerank': 0.0051597816207715405}),\n",
       " (4,\n",
       "  {'id': 4,\n",
       "   'label': u'Davis, Marc',\n",
       "   'node_type': 'Author',\n",
       "   'zbetween_central': 0.0,\n",
       "   'zdeg_central': 0.5358851674641149,\n",
       "   'zpagerank': 0.0051597816207715405}),\n",
       " (5,\n",
       "  {'id': 5,\n",
       "   'label': u'Perlmutter, S.',\n",
       "   'node_type': 'Author',\n",
       "   'zbetween_central': 0.0,\n",
       "   'zdeg_central': 0.5358851674641149,\n",
       "   'zpagerank': 0.0051597816207715405}),\n",
       " (6,\n",
       "  {'id': 6,\n",
       "   'label': u'Aldering, G.',\n",
       "   'node_type': 'Author',\n",
       "   'zbetween_central': 0.0,\n",
       "   'zdeg_central': 0.5358851674641149,\n",
       "   'zpagerank': 0.0051597816207715405})]"
      ]
     },
     "execution_count": 7,
     "metadata": {},
     "output_type": "execute_result"
    }
   ],
   "source": [
    "graphs.a_lg_cc_subgraph.nodes(data=True)[0:5]"
   ]
  },
  {
   "cell_type": "code",
   "execution_count": 8,
   "metadata": {
    "collapsed": false
   },
   "outputs": [
    {
     "data": {
      "text/plain": [
       "[(141,\n",
       "  {'id': 141,\n",
       "   'label': u'Tremaine, Scott',\n",
       "   'node_type': 'Author',\n",
       "   'zbetween_central': 0.0,\n",
       "   'zdeg_central': 0.7619047619047619,\n",
       "   'zpagerank': 0.045454545454545435}),\n",
       " (38,\n",
       "  {'id': 38,\n",
       "   'label': u'Riess, Adam G.',\n",
       "   'node_type': 'Author',\n",
       "   'zbetween_central': 0.0,\n",
       "   'zdeg_central': 0.7619047619047619,\n",
       "   'zpagerank': 0.045454545454545435}),\n",
       " (39,\n",
       "  {'id': 39,\n",
       "   'label': u'Filippenko, Alexei V.',\n",
       "   'node_type': 'Author',\n",
       "   'zbetween_central': 0.0,\n",
       "   'zdeg_central': 0.7619047619047619,\n",
       "   'zpagerank': 0.045454545454545435}),\n",
       " (40,\n",
       "  {'id': 40,\n",
       "   'label': u'Challis, Peter',\n",
       "   'node_type': 'Author',\n",
       "   'zbetween_central': 0.0,\n",
       "   'zdeg_central': 0.7619047619047619,\n",
       "   'zpagerank': 0.045454545454545435}),\n",
       " (46,\n",
       "  {'id': 46,\n",
       "   'label': u'Jha, Saurabh',\n",
       "   'node_type': 'Author',\n",
       "   'zbetween_central': 0.0,\n",
       "   'zdeg_central': 0.7619047619047619,\n",
       "   'zpagerank': 0.045454545454545435})]"
      ]
     },
     "execution_count": 8,
     "metadata": {},
     "output_type": "execute_result"
    }
   ],
   "source": [
    "graphs.islands_graph.nodes(data=True)[:5]"
   ]
  },
  {
   "cell_type": "markdown",
   "metadata": {},
   "source": [
    "If everything looks good, two methods are called to export the graphs to csv files. A subdirectory of the current working directory called csvs is created for the output. For our web app these csvs will get piped into a sqlite database that will sit on the server, but we can use these csvs for other graph APIs and databases if we wanted to..."
   ]
  },
  {
   "cell_type": "code",
   "execution_count": 9,
   "metadata": {
    "collapsed": false
   },
   "outputs": [],
   "source": [
    "graphs.export_main_to_csv()"
   ]
  },
  {
   "cell_type": "code",
   "execution_count": 10,
   "metadata": {
    "collapsed": false
   },
   "outputs": [],
   "source": [
    "graphs.export_subgraphs_to_csv()"
   ]
  }
 ],
 "metadata": {
  "kernelspec": {
   "display_name": "Python 2",
   "language": "python",
   "name": "python2"
  },
  "language_info": {
   "codemirror_mode": {
    "name": "ipython",
    "version": 2
   },
   "file_extension": ".py",
   "mimetype": "text/x-python",
   "name": "python",
   "nbconvert_exporter": "python",
   "pygments_lexer": "ipython2",
   "version": "2.7.11"
  }
 },
 "nbformat": 4,
 "nbformat_minor": 1
}
